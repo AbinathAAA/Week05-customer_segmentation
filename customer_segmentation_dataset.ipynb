{
  "nbformat": 4,
  "nbformat_minor": 0,
  "metadata": {
    "colab": {
      "provenance": [],
      "toc_visible": true,
      "authorship_tag": "ABX9TyN/yE15Ks1dJD8TTRmKZ5tL",
      "include_colab_link": true
    },
    "kernelspec": {
      "name": "python3",
      "display_name": "Python 3"
    },
    "language_info": {
      "name": "python"
    }
  },
  "cells": [
    {
      "cell_type": "markdown",
      "metadata": {
        "id": "view-in-github",
        "colab_type": "text"
      },
      "source": [
        "<a href=\"https://colab.research.google.com/github/AbinathAAA/Week05-customer_segmentation/blob/main/customer_segmentation_dataset.ipynb\" target=\"_parent\"><img src=\"https://colab.research.google.com/assets/colab-badge.svg\" alt=\"Open In Colab\"/></a>"
      ]
    },
    {
      "cell_type": "code",
      "execution_count": null,
      "metadata": {
        "colab": {
          "base_uri": "https://localhost:8080/"
        },
        "id": "BJCxcR3AOSxL",
        "outputId": "d58355a6-1c47-417f-9044-53959f5ff6f8"
      },
      "outputs": [
        {
          "output_type": "stream",
          "name": "stdout",
          "text": [
            "Requirement already satisfied: pyspark in /usr/local/lib/python3.11/dist-packages (3.5.1)\n",
            "Requirement already satisfied: py4j==0.10.9.7 in /usr/local/lib/python3.11/dist-packages (from pyspark) (0.10.9.7)\n"
          ]
        }
      ],
      "source": [
        "!pip install pyspark"
      ]
    },
    {
      "cell_type": "code",
      "source": [
        "from google.colab import drive\n",
        "drive.mount('/content/drive')"
      ],
      "metadata": {
        "colab": {
          "base_uri": "https://localhost:8080/"
        },
        "id": "Hf2FV4vlPaYK",
        "outputId": "c25499a3-714b-431c-a9c9-89a7c112eeb2"
      },
      "execution_count": null,
      "outputs": [
        {
          "output_type": "stream",
          "name": "stdout",
          "text": [
            "Mounted at /content/drive\n"
          ]
        }
      ]
    },
    {
      "cell_type": "code",
      "source": [
        "from pyspark.sql import SparkSession\n",
        "\n",
        "spark = SparkSession.builder \\\n",
        "                    .appName(\"Tutorial_DF\") \\\n",
        "                    .master(\"local[*]\") \\\n",
        "                    .config(\"spark.executor.memory\", \"4g\") \\\n",
        "                    .config(\"spark.driver.memory\", \"2g\") \\\n",
        "                    .config(\"spark.executor.cores\", \"2\") \\\n",
        "                    .config(\"spark.sql.inMemoryColumnarStorage.compressed\", \"true\") \\\n",
        "                    .getOrCreate()"
      ],
      "metadata": {
        "id": "sFIK_p5_PblO"
      },
      "execution_count": null,
      "outputs": []
    },
    {
      "cell_type": "markdown",
      "source": [
        "# New section"
      ],
      "metadata": {
        "id": "XTetcOxpYG4v"
      }
    },
    {
      "cell_type": "markdown",
      "source": [
        "# New section"
      ],
      "metadata": {
        "id": "N3f7mrpMYIzx"
      }
    },
    {
      "cell_type": "code",
      "source": [
        "# Load CSV into DataFrame\n",
        "file_path = \"drive/My Drive/Colab Notebooks/customer_segmentation_dataset.csv\"\n",
        "df = spark.read.csv(file_path, header=True, inferSchema=True)\n",
        "\n",
        "# Show the first 5 rows\n",
        "print(\"Showing first 5 rows:\")\n",
        "df.show(5)\n",
        "\n",
        "# Print schema of the DataFrame\n",
        "print(\"Schema of DataFrame:\")\n",
        "df.printSchema(1)"
      ],
      "metadata": {
        "colab": {
          "base_uri": "https://localhost:8080/"
        },
        "id": "CuLVZe3LQQMn",
        "outputId": "77db4d9c-a491-4ef8-991d-c7fef089c22d"
      },
      "execution_count": null,
      "outputs": [
        {
          "output_type": "stream",
          "name": "stdout",
          "text": [
            "Showing first 5 rows:\n",
            "+---+-------------+--------------+-----------------+-------------------+----------------+\n",
            "|age|annual_income|spending_score|years_as_customer|number_of_purchases|customer_segment|\n",
            "+---+-------------+--------------+-----------------+-------------------+----------------+\n",
            "| 22|       113441|            19|                2|                 44|       Low Value|\n",
            "| 47|        85415|            74|                7|                 11|    Medium Value|\n",
            "| 60|        78075|            18|               19|                 37|       Low Value|\n",
            "| 44|        89388|            84|               10|                 15|      High Value|\n",
            "| 37|        94910|            85|               15|                 31|      High Value|\n",
            "+---+-------------+--------------+-----------------+-------------------+----------------+\n",
            "only showing top 5 rows\n",
            "\n",
            "Schema of DataFrame:\n",
            "root\n",
            " |-- age: integer (nullable = true)\n",
            " |-- annual_income: integer (nullable = true)\n",
            " |-- spending_score: integer (nullable = true)\n",
            " |-- years_as_customer: integer (nullable = true)\n",
            " |-- number_of_purchases: integer (nullable = true)\n",
            " |-- customer_segment: string (nullable = true)\n",
            "\n"
          ]
        }
      ]
    },
    {
      "cell_type": "code",
      "source": [
        "dataset = spark.read.csv('drive/My Drive/Colab Notebooks/customer_segmentation_dataset.csv',inferSchema=True, header =True)\\\n",
        ".toDF(\"age\", \"annual_income\", \"spending_score\", \"years_as_customer\", \"number_of_purchases\",\"customer_segment\")\n",
        "\n",
        "\n",
        "dataset.select('customer_segment').distinct().show(10)\n",
        "dataset.count()"
      ],
      "metadata": {
        "colab": {
          "base_uri": "https://localhost:8080/"
        },
        "id": "FcildvwiQYpi",
        "outputId": "d23625ac-2353-4681-8556-ed6ba9413fe8"
      },
      "execution_count": null,
      "outputs": [
        {
          "output_type": "stream",
          "name": "stdout",
          "text": [
            "+----------------+\n",
            "|customer_segment|\n",
            "+----------------+\n",
            "|    Medium Value|\n",
            "|      High Value|\n",
            "|       Low Value|\n",
            "+----------------+\n",
            "\n"
          ]
        },
        {
          "output_type": "execute_result",
          "data": {
            "text/plain": [
              "2000000"
            ]
          },
          "metadata": {},
          "execution_count": 13
        }
      ]
    },
    {
      "cell_type": "code",
      "source": [
        "from pyspark.ml.linalg import Vectors\n",
        "from pyspark.ml.feature import VectorAssembler\n",
        "vector_assembler = VectorAssembler(\\\n",
        "inputCols=[\"age\", \"annual_income\", \"spending_score\", \"years_as_customer\", \"number_of_purchases\"],\\\n",
        "outputCol=\"features\")\n",
        "df_temp = vector_assembler.transform(dataset)\n",
        "df_temp.show(3)"
      ],
      "metadata": {
        "colab": {
          "base_uri": "https://localhost:8080/"
        },
        "id": "Xh6TGfOLQ8oJ",
        "outputId": "82150f02-c86b-44f6-cdac-0d659a459e60"
      },
      "execution_count": null,
      "outputs": [
        {
          "output_type": "stream",
          "name": "stdout",
          "text": [
            "+---+-------------+--------------+-----------------+-------------------+----------------+--------------------+\n",
            "|age|annual_income|spending_score|years_as_customer|number_of_purchases|customer_segment|            features|\n",
            "+---+-------------+--------------+-----------------+-------------------+----------------+--------------------+\n",
            "| 22|       113441|            19|                2|                 44|       Low Value|[22.0,113441.0,19...|\n",
            "| 47|        85415|            74|                7|                 11|    Medium Value|[47.0,85415.0,74....|\n",
            "| 60|        78075|            18|               19|                 37|       Low Value|[60.0,78075.0,18....|\n",
            "+---+-------------+--------------+-----------------+-------------------+----------------+--------------------+\n",
            "only showing top 3 rows\n",
            "\n"
          ]
        }
      ]
    },
    {
      "cell_type": "code",
      "source": [
        "#Let’s remove unnecessary columns:\n",
        "df = df_temp.drop('age', 'annual_income', \"spending_score\", \"years_as_customer\")\n",
        "df.show(3)"
      ],
      "metadata": {
        "colab": {
          "base_uri": "https://localhost:8080/"
        },
        "id": "JO8CikEZSe1x",
        "outputId": "d13b10df-e16e-4039-dbff-2ad4b3101277"
      },
      "execution_count": null,
      "outputs": [
        {
          "output_type": "stream",
          "name": "stdout",
          "text": [
            "+-------------------+----------------+--------------------+\n",
            "|number_of_purchases|customer_segment|            features|\n",
            "+-------------------+----------------+--------------------+\n",
            "|                 44|       Low Value|[22.0,113441.0,19...|\n",
            "|                 11|    Medium Value|[47.0,85415.0,74....|\n",
            "|                 37|       Low Value|[60.0,78075.0,18....|\n",
            "+-------------------+----------------+--------------------+\n",
            "only showing top 3 rows\n",
            "\n"
          ]
        }
      ]
    },
    {
      "cell_type": "code",
      "source": [
        "\n",
        "from pyspark.ml.feature import StringIndexer\n",
        "l_indexer = StringIndexer(inputCol=\"customer_segment\", outputCol=\"customer_segment_index\")\n",
        "df = l_indexer.fit(df).transform(df)\n",
        "\n",
        "df.select('customer_segment','customer_segment_index').distinct().show(3)"
      ],
      "metadata": {
        "colab": {
          "base_uri": "https://localhost:8080/"
        },
        "id": "qO6AfH7mSy73",
        "outputId": "fca0c688-5a8c-402d-ec62-67a81175194b"
      },
      "execution_count": null,
      "outputs": [
        {
          "output_type": "stream",
          "name": "stdout",
          "text": [
            "+----------------+----------------------+\n",
            "|customer_segment|customer_segment_index|\n",
            "+----------------+----------------------+\n",
            "|      High Value|                   2.0|\n",
            "|    Medium Value|                   1.0|\n",
            "|       Low Value|                   0.0|\n",
            "+----------------+----------------------+\n",
            "\n"
          ]
        }
      ]
    },
    {
      "cell_type": "code",
      "source": [
        "from pyspark.ml.classification import DecisionTreeClassifier\n",
        "from pyspark.ml.evaluation import MulticlassClassificationEvaluator\n",
        "from pyspark.ml.feature import StringIndexer\n",
        "from pyspark.ml.linalg import Vectors\n",
        "from pyspark.ml.feature import VectorAssembler\n",
        "\n",
        "# Assuming 'df' is your DataFrame with 'features' and 'customer_segment' columns\n",
        "# If not, make sure you have run the previous steps to create these columns.\n",
        "\n",
        "# Split the data into training and test sets (70% training, 30% testing)\n",
        "(trainingData, testData) = df.randomSplit([0.7, 0.3], seed=1234)\n",
        "\n",
        "dt = DecisionTreeClassifier(labelCol=\"customer_segment_index\", featuresCol=\"features\", impurity='entropy', maxDepth=4, seed=1234)\n",
        "model = dt.fit(trainingData)\n",
        "predictions = model.transform(testData)\n",
        "\n",
        "# Evaluate the model\n",
        "evaluator = MulticlassClassificationEvaluator(labelCol=\"customer_segment_index\", predictionCol=\"prediction\", metricName=\"accuracy\")\n",
        "accuracy = evaluator.evaluate(predictions)\n",
        "print(f\"Accuracy: {accuracy}\")\n",
        "\n",
        "# Show some predictions\n",
        "predictions.select(\"customer_segment\", \"customer_segment_index\", \"prediction\").show(10)"
      ],
      "metadata": {
        "colab": {
          "base_uri": "https://localhost:8080/"
        },
        "id": "2bOgF1U8Qb3S",
        "outputId": "89a1b513-40ec-4fe6-ae03-c2f613dc5f0f"
      },
      "execution_count": null,
      "outputs": [
        {
          "output_type": "stream",
          "name": "stdout",
          "text": [
            "Accuracy: 0.9798673045826596\n",
            "+----------------+----------------------+----------+\n",
            "|customer_segment|customer_segment_index|prediction|\n",
            "+----------------+----------------------+----------+\n",
            "|      High Value|                   2.0|       1.0|\n",
            "|      High Value|                   2.0|       2.0|\n",
            "|      High Value|                   2.0|       2.0|\n",
            "|      High Value|                   2.0|       2.0|\n",
            "|      High Value|                   2.0|       2.0|\n",
            "|      High Value|                   2.0|       2.0|\n",
            "|      High Value|                   2.0|       2.0|\n",
            "|      High Value|                   2.0|       2.0|\n",
            "|      High Value|                   2.0|       2.0|\n",
            "|      High Value|                   2.0|       2.0|\n",
            "+----------------+----------------------+----------+\n",
            "only showing top 10 rows\n",
            "\n"
          ]
        }
      ]
    },
    {
      "cell_type": "code",
      "source": [
        "from pyspark.ml.classification import DecisionTreeClassifier\n",
        "from pyspark.ml.evaluation import MulticlassClassificationEvaluator\n",
        "dt = DecisionTreeClassifier(labelCol=\"customer_segment_index\", featuresCol=\"features\",impurity='entropy', maxDepth=4,seed=1234)\n",
        "model = dt.fit(trainingData)\n",
        "predictions = model.transform(testData)"
      ],
      "metadata": {
        "id": "3gwJ_x2fUqIR"
      },
      "execution_count": null,
      "outputs": []
    },
    {
      "cell_type": "code",
      "source": [
        "# Split the data into training and test sets\n",
        "trainingData, testData = df.randomSplit([0.7, 0.3], seed=1234)\n",
        "\n",
        "# Fit the model\n",
        "model = dt.fit(trainingData)\n",
        "\n",
        "# Make predictions\n",
        "predictions = model.transform(testData)"
      ],
      "metadata": {
        "id": "fT2a-axCVHHe"
      },
      "execution_count": null,
      "outputs": []
    },
    {
      "cell_type": "code",
      "source": [
        "(trainingData, testData) = df.randomSplit([0.7, 0.3])"
      ],
      "metadata": {
        "id": "11sh_Ii2VH-p"
      },
      "execution_count": null,
      "outputs": []
    },
    {
      "cell_type": "code",
      "source": [],
      "metadata": {
        "id": "0eYu4Ut-YYd4"
      },
      "execution_count": null,
      "outputs": []
    },
    {
      "cell_type": "code",
      "source": [
        "evaluator = MulticlassClassificationEvaluator(\\\n",
        "labelCol=\"customer_segment_index\", predictionCol=\"prediction\",\\\n",
        "metricName=\"accuracy\")\n",
        "accuracy = evaluator.evaluate(predictions)\n",
        "print(\"Test accuracy =  \" , accuracy)\n",
        "print(model.toDebugString)"
      ],
      "metadata": {
        "colab": {
          "base_uri": "https://localhost:8080/"
        },
        "id": "bSDu5zDdVMC1",
        "outputId": "27e0b008-e5d4-4933-fe5b-f8c1e3bbc48a"
      },
      "execution_count": null,
      "outputs": [
        {
          "output_type": "stream",
          "name": "stdout",
          "text": [
            "Test accuracy =   0.9798673045826596\n",
            "DecisionTreeClassificationModel: uid=DecisionTreeClassifier_c506930cc13d, depth=2, numNodes=5, numClasses=3, numFeatures=5\n",
            "  If (feature 2 <= 49.5)\n",
            "   Predict: 0.0\n",
            "  Else (feature 2 > 49.5)\n",
            "   If (feature 2 <= 76.5)\n",
            "    Predict: 1.0\n",
            "   Else (feature 2 > 76.5)\n",
            "    Predict: 2.0\n",
            "\n"
          ]
        }
      ]
    },
    {
      "cell_type": "code",
      "source": [
        "# this is code for multiple classification using logistic Regression\n",
        "from pyspark.ml.classification import OneVsRest\n",
        "from pyspark.ml.classification import LogisticRegression\n",
        "train, test = df.randomSplit([0.7, 0.3], seed = 2018)\n",
        "lr = LogisticRegression(maxIter=100, \\\n",
        "\n",
        "                        featuresCol=\"features\", \\\n",
        "\n",
        "                        labelCol='customer_segment_index')\n",
        "ovr = OneVsRest(classifier=lr, \\\n",
        "                labelCol='customer_segment_index', \\\n",
        "                featuresCol='features')\n",
        "#from pyspark.ml import Pipeline\n",
        "#pipeline_ovr = Pipeline(stages=[vecAssembler, stdScaler, ovr])\n",
        "#pipelineModel_ovr = pipeline_ovr.fit(trainDF)\n",
        "\n",
        "ovrModel = ovr.fit(train)\n",
        "predictionsovr = ovrModel.transform(test)\n",
        "\n",
        "\n",
        "evaluator = MulticlassClassificationEvaluator(\\\n",
        "labelCol=\"customer_segment_index\", predictionCol=\"prediction\",\\\n",
        "metricName=\"accuracy\")\n",
        "accuracy = evaluator.evaluate(predictionsovr)\n",
        "print(\"Test accuracy =  \" , accuracy)"
      ],
      "metadata": {
        "colab": {
          "base_uri": "https://localhost:8080/"
        },
        "id": "JFKrUqPPVVjb",
        "outputId": "bf3beaaa-64a8-4203-e748-d9ae73b2cab6"
      },
      "execution_count": null,
      "outputs": [
        {
          "output_type": "stream",
          "name": "stdout",
          "text": [
            "Test accuracy =   1.0\n"
          ]
        }
      ]
    },
    {
      "cell_type": "code",
      "source": [
        "import seaborn as sns\n",
        "import matplotlib.pyplot as plt\n",
        "import pandas as pd\n",
        "\n",
        "# Create MulticlassMetrics object\n",
        "\n",
        " #Convert predictions and labels to RDD for MulticlassMetrics\n",
        "\n",
        "prediction_and_labels = predictionsovr.select(\"prediction\", \"customer_segment_index\") \\\n",
        "    .withColumnRenamed(\"customer_segment_index\", \"customer_segment\") \\\n",
        "    .toPandas()  # Convert to Pandas DataFrame for easier manipulation\n",
        "\n",
        "# Create a confusion matrix using Pandas\n",
        "\n",
        "confusion_matrix = pd.crosstab(prediction_and_labels['customer_segment'], prediction_and_labels['prediction'], rownames=['Actual'], colnames=['Predicted'])\n",
        "\n",
        "\n",
        "\n",
        "# Plot the confusion matrix using Seaborn and Matplotlib\n",
        "\n",
        "plt.figure(figsize=(8, 6))\n",
        "\n",
        "sns.heatmap(confusion_matrix, annot=True, fmt=\"d\", cmap=\"Blues\", cbar=False)\n",
        "\n",
        "plt.title(\"Confusion Matrix\")\n",
        "\n",
        "plt.xlabel(\"Predicted\")\n",
        "\n",
        "plt.ylabel(\"Actual\")\n",
        "\n",
        "plt.show()\n",
        "\n",
        "\n",
        "\n",
        "evaluator = MulticlassClassificationEvaluator(\\\n",
        "\n",
        "labelCol=\"customer_segment_index\", predictionCol=\"prediction\",\\\n",
        "\n",
        "metricName=\"accuracy\")\n",
        "\n",
        "accuracy = evaluator.evaluate(predictionsovr)\n",
        "\n",
        "print(\"Test accuracy =  \" , accuracy)"
      ],
      "metadata": {
        "colab": {
          "base_uri": "https://localhost:8080/",
          "height": 582
        },
        "id": "XzP2D8WRViI_",
        "outputId": "36ed049d-0dfc-481d-8963-ac7c114327b4"
      },
      "execution_count": null,
      "outputs": [
        {
          "output_type": "display_data",
          "data": {
            "text/plain": [
              "<Figure size 800x600 with 1 Axes>"
            ],
            "image/png": "[encoded data removed]"
          },
          "metadata": {}
        },
        {
          "output_type": "stream",
          "name": "stdout",
          "text": [
            "Test accuracy =   1.0\n"
          ]
        }
      ]
    }
  ]
}